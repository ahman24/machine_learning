{
 "cells": [
  {
   "cell_type": "markdown",
   "id": "exciting-receipt",
   "metadata": {},
   "source": [
    "# Housing Price Prediction : Linear Regression\n",
    "\n",
    "## Introduction\n",
    "\n",
    "The project will implement a Linear Regression + Batch Gradient Descent to predict the housing price. The objective is to understand and create a Linear Regression and Batch Gradient Descent algorithm. The dataset is obtained from the Exercise 1 of the CS229 - 2018 Harvard class. It consist of 47 examples with the following 2 features (house size & number of bedrooms) and a label (house price).\n",
    "\n",
    "The project consists of the following sections,\n",
    "\n",
    "| Section | Part                                            |Explanation                                    | \n",
    "|---------|:-                                               |:-                                             |\n",
    "| 1       | [Review](#section1)                             | The equations which will be used to create the Linear Regression Class |\n",
    "| 2       | [Define Linear Regression Class](#section2)                     | The LG class serves as a self-built LG algorithm with Batch GD |\n",
    "| 3       | [Housing Price Prediction with LG Class](#section3)     | Evaluate LG model with test set         |\n",
    "| 4       | [Vary Number of Batch GD iterations](#section4)     | Experiment what would happen if `num_iters` is too small or too big          |\n",
    "| 5       | [Vary Learning Rate](#section5)     | Experiment what would happen if $\\alpha$ is too low or too high         |\n",
    "| 6       | [Conclusion](#section6)     | Take aways of the project         |"
   ]
  },
  {
   "cell_type": "markdown",
   "id": "sapphire-collective",
   "metadata": {},
   "source": [
    "<a id=\"section1\"></a>\n",
    "## 1:  Review \n",
    "\n",
    "The Linear Regression class will utilize the following Cost Function as the optimization objective,\n",
    "\n",
    "$$ J(\\theta) = \\frac{1}{2m} \\sum_{i=1}^m \\left( h_{\\theta}(x^{(i)}) - y^{(i)}\\right)^2$$\n",
    "\n",
    "which the hyptothesis $h_\\theta(x)$ is given by the linear model\n",
    "$$ h_\\theta(x) = \\theta^Tx = \\theta_0 + \\theta_1 x_1 + ... + \\theta_n x_n$$\n",
    "\n",
    "\n",
    "The Batch Gradient Descent is then performed in iterations to simultaneously updates $\\theta_j$ as follows,\n",
    "\n",
    "$$ \\theta_j = \\theta_j - \\alpha \\frac{1}{m} \\sum_{i=1}^m \\left( h_\\theta(x^{(i)}) - y^{(i)}\\right)x_j^{(i)} \\qquad \\text{simultaneously update } \\theta_j \\text{ for all } j$$\n",
    "\n",
    "which $\\alpha$ is the learning rate parameter.\n",
    "\n",
    "Moreover, vectorization is also implemented in the Linear Regression class."
   ]
  },
  {
   "cell_type": "markdown",
   "id": "located-composite",
   "metadata": {},
   "source": [
    "<a id=\"section2\"></a>\n",
    "## 2:  Define a Linear Regression Class \n",
    "The class pipeline will be,\n",
    "\n",
    "| Pipeline | Part               |Explanation                       | \n",
    "| ---------|:-                  |:-                                |\n",
    "| 1        | Load the dataset   | Create training/test set                      |\n",
    "| 2        | Feature Normalization   | Using Matplotlib pyplot          |\n",
    "| 3        | Gradient Descent   | Batch Gradient Descent           |\n",
    "| 4        | Cost Function      | Mean Squared Error Cost Function |\n",
    "| 5        | Execute      | Execute the pipeline |\n",
    "| 6        | Predict      | Predict the price given `theta`, `alpha`, and `num_iters` |"
   ]
  },
  {
   "cell_type": "code",
   "execution_count": 1,
   "id": "monetary-retrieval",
   "metadata": {},
   "outputs": [],
   "source": [
    "import os\n",
    "import numpy as np\n",
    "\n",
    "import matplotlib.pyplot as plt\n",
    "%matplotlib inline"
   ]
  },
  {
   "cell_type": "code",
   "execution_count": 2,
   "id": "civil-toddler",
   "metadata": {},
   "outputs": [],
   "source": [
    "class LinearRegression:\n",
    "    def __init__(self):\n",
    "        '''\n",
    "        The method will load the dataset and initialize important value. \n",
    "        \n",
    "        STEPS\n",
    "        -----\n",
    "        1. Loading dataset : Refer to the load_data method for details\n",
    "        \n",
    "        2. Initialize Theta.\n",
    "            Theta is as a vector of 0 with a size of n\n",
    "        '''\n",
    "        \n",
    "        self.load_data()\n",
    "        self.theta = np.zeros(self.n)\n",
    "        \n",
    "    def load_data(self):\n",
    "        '''\n",
    "        The method will load the dataset from a CSV file named 'ex1data2.txt'. \n",
    "        The dataset consists of 47 examples, we will divide it into the \n",
    "        training set and test set. Due to limited number of examples, we will \n",
    "        only assign the last 5 of the data as the test set.\n",
    "        \n",
    "        Note: The raw dataset has been shuffled randomly before.\n",
    "        \n",
    "        STEPS\n",
    "        -----\n",
    "        1. Load the CSV file\n",
    "        2. Assign the following variables,\n",
    "            m : number of dataset examples\n",
    "            n : number of dataset features that includes the bias term\n",
    "        \n",
    "        3. Assign the training and test set,\n",
    "            m_training : number of training set examples\n",
    "            X = training set features,\n",
    "                X[0] : housing size\n",
    "                X[1] : number of bedrooms\n",
    "            y : training set housing price\n",
    "            \n",
    "        4. Assign the test set,\n",
    "            X_test : test set features,\n",
    "                X_test[0] : housing size\n",
    "                X_test[1] : number of bedrooms\n",
    "            y_test : test set housing prices\n",
    "        '''\n",
    "        \n",
    "        # STEP 1\n",
    "        self.dataset = np.loadtxt(os.path.join('Data', 'ex1data2.txt'), delimiter=',', dtype=np.int64)\n",
    "        \n",
    "        # STEP 2\n",
    "        self.m = self.dataset.shape[0]\n",
    "        self.n = self.dataset.shape[1]\n",
    "        \n",
    "        # STEP 3\n",
    "        self.m_training = self.m - 5\n",
    "        self.X = self.dataset[:self.m_training, :2]\n",
    "        self.y = self.dataset[:self.m_training, 2]\n",
    "        \n",
    "        self.X_test = self.dataset[self.m_training+1:self.m, :2]\n",
    "        self.y_test = self.dataset[self.m_training+1:self.m, 2]\n",
    "            \n",
    "    def features_normalization(self):\n",
    "        '''\n",
    "        The method will normalize the features' values so it has a mean\n",
    "        of 0 and a standard deviation of 1. The process will implement \n",
    "        vectorization in Numpy. After normalization, the bias term will be\n",
    "        assigned to the features as X[0].\n",
    "        \n",
    "        RETURN\n",
    "        ------\n",
    "            X_norm : normalized features matrix with a size of m x n, \n",
    "                X[0] : Bias term\n",
    "                X[1] : Feature #1\n",
    "                X[2] : Feature #2\n",
    "                \n",
    "        STEPS\n",
    "        ----\n",
    "        1. Initialize matrix size,\n",
    "            X_norm = copy features' matrix size\n",
    "            mean = create mean expected matrix size\n",
    "            sigma = create standard deviation expected matrix size\n",
    "        \n",
    "        2. Calculate the values,\n",
    "            mean = calculate the mean of each features using numpy\n",
    "            sigma = calculate the standard deviation of each features using\n",
    "                    numpy\n",
    "        \n",
    "        3. Calculate normalized features. \n",
    "        4. Add bias term to the normalized features.\n",
    "            X_norm includes normalized features (as X[1] and X[2]) and bias term\n",
    "            as X[0]\n",
    "        '''\n",
    "        \n",
    "        # STEP 1\n",
    "        X_norm = self.X.copy()\n",
    "        mean = np.zeros(self.X.shape[1])\n",
    "        sigma = np.zeros(self.X.shape[1])\n",
    "        \n",
    "        # STEP 2\n",
    "        self.mean = np.mean(self.X, axis=0)\n",
    "        self.stdev = np.std(self.X, axis=0)\n",
    "        \n",
    "        # STEP 3\n",
    "        X_norm = (self.X - self.mean) / self.stdev\n",
    "        \n",
    "        # STEP 4\n",
    "        X_norm = np.concatenate([np.ones((self.m_training, 1)), X_norm], axis=1)\n",
    "        return X_norm\n",
    "    \n",
    "    def compute_h_theta(self, X, theta):\n",
    "        '''\n",
    "        The method will predict the housing price.\n",
    "        \n",
    "        PARAMETERS\n",
    "        ----------\n",
    "            X : normalized features matrix with a size of m x n\n",
    "            theta : features' parameters vector with a size of n\n",
    "        \n",
    "        RETURN\n",
    "        ------\n",
    "            h_theta : housing price prediction vector with a size of n\n",
    "        '''\n",
    "        \n",
    "        h_theta = np.dot(X, theta)\n",
    "        return h_theta\n",
    "    \n",
    "    def compute_cost(self, theta):\n",
    "        '''\n",
    "        The method will calculate the cost. The cost function measures how 'far' \n",
    "        the hypothesis is from the optimization objective. The higher the cost, \n",
    "        the further away the hypothesis from the optimization objective.\n",
    "        \n",
    "        PARAMETERS\n",
    "        ----------\n",
    "            theta : features' parameters vector with a size of n\n",
    "        \n",
    "        RETURN\n",
    "        ------\n",
    "            J : cost of current hypothesis \n",
    "        '''\n",
    "        \n",
    "        # Calculate the h_theta with current theta\n",
    "        h_theta = self.compute_h_theta(self.X, theta)\n",
    "        \n",
    "        # Calculate the cost with given h_theta\n",
    "        J = 1/(2*self.m_training) * np.sum(np.square((h_theta - self.y)))\n",
    "        \n",
    "        return J\n",
    "        \n",
    "    def gradient_descent(self):\n",
    "        '''\n",
    "        The method will perform Gradient Descent to optimize parameters\n",
    "        theta. Gradient descent will optimized theta to obtain cost as lowest as\n",
    "        possible.\n",
    "        \n",
    "        RETURN\n",
    "        ------\n",
    "            theta : optimized theta parameters vector with a size of n\n",
    "            J_hist : the evolution of cost as a function of number of iterations\n",
    "                    (num_iters)\n",
    "        '''\n",
    "        \n",
    "        J_hist = []\n",
    "        theta = self.theta.copy()\n",
    "        \n",
    "        for i in range(self.num_iters):\n",
    "            theta = theta - (self.alpha/self.m_training) * (self.compute_h_theta(self.X, theta) - self.y).dot(self.X)\n",
    "            J_hist.append(self.compute_cost(theta))\n",
    "        \n",
    "        return theta, J_hist\n",
    "    \n",
    "    def execute(self, alpha, num_iters):\n",
    "        '''\n",
    "        The method will perform the full pipeline of a Linear Regression.\n",
    "        \n",
    "        PARAMETERS\n",
    "        ----------\n",
    "            alpha : learning rate (dtype : float)\n",
    "            num_iters : number of iterations (dtype : int)\n",
    "\n",
    "        RETURN\n",
    "        ------\n",
    "            theta : optimized theta parameters vector with a size of n\n",
    "            J_hist : the evolution of cost as a function of number of iterations\n",
    "                    (num_iters)\n",
    "                    \n",
    "        STEPS\n",
    "        ----\n",
    "        1. Initialize important values,\n",
    "        2. Perform features normalization,\n",
    "        3. Perform Gradient Descent\n",
    "        4. Return the optimized theta and the J_hist\n",
    "        '''\n",
    "\n",
    "        self.num_iters = num_iters\n",
    "        self.alpha = alpha\n",
    "        self.X = self.features_normalization()\n",
    "        self.theta, self.J_hist = self.gradient_descent()\n",
    "        \n",
    "        return self.theta, self.J_hist\n",
    "    \n",
    "    def predict(self, X):\n",
    "        '''\n",
    "        The method will perform the housing price prediction.\n",
    "        \n",
    "        PARAMETERS\n",
    "        ----------\n",
    "            X : housing features\n",
    "                X[0] : housing size\n",
    "                X[1] : number of bedrooms\n",
    "\n",
    "        RETURN\n",
    "        ------\n",
    "            price : predicted price given the self.theta\n",
    "                    \n",
    "        STEPS\n",
    "        ----\n",
    "        1. Perform features normalization,\n",
    "        2. Add bias term,\n",
    "        3. Calculate the prediction.\n",
    "\n",
    "        '''\n",
    "\n",
    "        # STEP 1\n",
    "        X_norm = (X - self.mean) / self.stdev\n",
    "        \n",
    "        # STEP 2\n",
    "        bias_unit = np.ones((X_test.shape[0],1))\n",
    "        X = np.hstack((bias_unit,X_norm))\n",
    "        \n",
    "        # STEP 3\n",
    "        price = self.compute_h_theta(X, self.theta) \n",
    "        return price"
   ]
  },
  {
   "cell_type": "markdown",
   "id": "unsigned-indication",
   "metadata": {},
   "source": [
    "<a id=\"section3\"></a>\n",
    "## 3:  Housing Price Prediction with Linear Regression class \n",
    "In section 3, we will predict the housing price using a self-built Linear Regression class on Section 2.\n",
    "\n",
    "The dataset has 2 features:\n",
    "1. Housing Size\n",
    "2. Number of bedrooms"
   ]
  },
  {
   "cell_type": "code",
   "execution_count": 3,
   "id": "aggregate-funds",
   "metadata": {},
   "outputs": [
    {
     "name": "stdout",
     "output_type": "stream",
     "text": [
      "    Size   bedrooms  price\n",
      "--------------------------\n",
      "    2104       3    399900\n",
      "    1600       3    329900\n",
      "    2400       3    369000\n",
      "    1416       2    232000\n",
      "    3000       4    539900\n",
      "    1985       4    299900\n",
      "    1534       3    314900\n",
      "    1427       3    198999\n",
      "    1380       3    212000\n",
      "    1494       3    242500\n"
     ]
    }
   ],
   "source": [
    "housing_prediction = LinearRegression()\n",
    "\n",
    "print('{:>8s}{:>11s}{:>7s}'.format('Size', 'bedrooms', 'price'))\n",
    "print('-'*26)\n",
    "for i in range(10):\n",
    "    print('{:8.0f}{:8.0f}{:10.0f}'.format(housing_prediction.X[i, 0], housing_prediction.X[i, 1], housing_prediction.y[i]))"
   ]
  },
  {
   "cell_type": "markdown",
   "id": "stupid-neighborhood",
   "metadata": {},
   "source": [
    "After parameters have been initialized, we should choose the parameters:\n",
    "\n",
    "1. Learning rate $\\alpha$ \n",
    "2. Number of Batch Gradient Descent iterations\n",
    "\n",
    "Note:\n",
    "\n",
    "It is important to choose proper learning rate $\\alpha$. If learning rate is high, the Batch GD might overshoot the local minimum and fail to identify local/global minimum. If too high, the Batch GD might diverge. It is also important to choose a sufficient number of iterations. If insufficient, the Batch GD might not yet converged into a local/global minimum.\n",
    "\n",
    "In this project, let's choose $\\alpha$ = 0.01 and `num_iters` = 1000"
   ]
  },
  {
   "cell_type": "code",
   "execution_count": 4,
   "id": "manufactured-screw",
   "metadata": {
    "scrolled": true
   },
   "outputs": [],
   "source": [
    "theta, J_hist = housing_prediction.execute(0.01, 1000)"
   ]
  },
  {
   "cell_type": "markdown",
   "id": "returning-election",
   "metadata": {},
   "source": [
    "After executed, let's plot the cost function as a function of number of iterations"
   ]
  },
  {
   "cell_type": "code",
   "execution_count": 5,
   "id": "varied-active",
   "metadata": {},
   "outputs": [
    {
     "data": {
      "image/png": "[encoded data removed]",
      "text/plain": [
       "<Figure size 432x288 with 1 Axes>"
      ]
     },
     "metadata": {
      "needs_background": "light"
     },
     "output_type": "display_data"
    }
   ],
   "source": [
    "plt.plot(J_hist)\n",
    "plt.xlabel('number of iterations')\n",
    "plt.ylabel('cost')\n",
    "plt.title('Cost vs number of iter')\n",
    "plt.show()"
   ]
  },
  {
   "cell_type": "markdown",
   "id": "comfortable-unemployment",
   "metadata": {},
   "source": [
    "From the figure above, it seems both learning rate $\\alpha$ and `num_iters` are correctly chosen. The Batch GD is able to converge to the global minimum (convex function) at iteration 400. After the model is created, let's evaluate the model using the test set."
   ]
  },
  {
   "cell_type": "code",
   "execution_count": 6,
   "id": "planned-victim",
   "metadata": {},
   "outputs": [],
   "source": [
    "X_test = housing_prediction.X_test.copy()\n",
    "predicted_price = housing_prediction.predict(housing_prediction.X_test)"
   ]
  },
  {
   "cell_type": "markdown",
   "id": "original-saturday",
   "metadata": {},
   "source": [
    "After evaluated, let's print the compile the results"
   ]
  },
  {
   "cell_type": "code",
   "execution_count": 7,
   "id": "civil-intro",
   "metadata": {},
   "outputs": [
    {
     "name": "stdout",
     "output_type": "stream",
     "text": [
      "    Size  bedrooms  Actual price Predicted price\n",
      "--------------------------\n",
      "    1200     3         299000       229372\n",
      "     852     2         179900       185824\n",
      "    1852     4         299900       315797\n",
      "    1203     3         239500       229795\n"
     ]
    }
   ],
   "source": [
    "print('{:>8s}{:>10s}{:>14s}{:>16s}'.format('Size', 'bedrooms', 'Actual price', 'Predicted price'))\n",
    "print('-'*26)\n",
    "for i in range(4):\n",
    "    print('{:8.0f}{:6.0f}{:15.0f}{:13.0f}'.format(housing_prediction.X_test[i, 0], housing_prediction.X_test[i, 1], housing_prediction.y_test[i], predicted_price[i]))"
   ]
  },
  {
   "cell_type": "markdown",
   "id": "temporal-missouri",
   "metadata": {},
   "source": [
    "From the table above, the predicted price could be off up to 10%. It is not perfect, but the the model does a decent job given  a very limited $m_{training}$ "
   ]
  },
  {
   "cell_type": "markdown",
   "id": "alike-provision",
   "metadata": {},
   "source": [
    "<a id=\"section4\"></a>\n",
    "## 4:  Vary Number of Batch GD iterations \n",
    "In section 4, we will investigate what would happen if `num_iters` is too small or too big"
   ]
  },
  {
   "cell_type": "code",
   "execution_count": 8,
   "id": "variable-aberdeen",
   "metadata": {},
   "outputs": [
    {
     "data": {
      "image/png": "[encoded data removed]",
      "text/plain": [
       "<Figure size 432x288 with 1 Axes>"
      ]
     },
     "metadata": {
      "needs_background": "light"
     },
     "output_type": "display_data"
    }
   ],
   "source": [
    "housing_low_num_iters = LinearRegression()\n",
    "theta, J_hist = housing_low_num_iters.execute(0.1, 10)\n",
    "plt.plot(J_hist)\n",
    "plt.xlabel('number of iterations')\n",
    "plt.ylabel('cost')\n",
    "plt.title('Cost vs number of iter')\n",
    "plt.show()"
   ]
  },
  {
   "cell_type": "code",
   "execution_count": 9,
   "id": "engaging-grain",
   "metadata": {},
   "outputs": [
    {
     "data": {
      "image/png": "[encoded data removed]",
      "text/plain": [
       "<Figure size 432x288 with 1 Axes>"
      ]
     },
     "metadata": {
      "needs_background": "light"
     },
     "output_type": "display_data"
    }
   ],
   "source": [
    "housing_high_num_iters = LinearRegression()\n",
    "theta, J_hist = housing_high_num_iters.execute(0.1, 500)\n",
    "plt.plot(J_hist)\n",
    "plt.xlabel('number of iterations')\n",
    "plt.ylabel('cost')\n",
    "plt.title('Cost vs number of iter')\n",
    "plt.show()"
   ]
  },
  {
   "cell_type": "markdown",
   "id": "dietary-finnish",
   "metadata": {},
   "source": [
    "From the first figure, the Batch GD has not yet converged into the global minimum yet the iteration has stopped. Thus, the hypothesis $h_{\\theta}(x)$ might be not good enough with respect to the optimization objective.\n",
    "\n",
    "Meanwhile on the second figure, The Batch GD has converged to the global minimum around `num_iters = 50`. There is no point to push the `num_iters = 1000` or even bigger since it would be computationally expensive.\n",
    "\n",
    "To summarize, it is important that the user uses a sufficient `num_iters`. It must not be too low (not yet converged) nor too high (computationally expensive)."
   ]
  },
  {
   "cell_type": "markdown",
   "id": "intended-planning",
   "metadata": {},
   "source": [
    "<a id=\"section5\"></a>\n",
    "## 5:  Vary Learning Rate \n",
    "In section 5, we will vary the learning rate and investigate what will happen if $\\alpha$ is too low or too high"
   ]
  },
  {
   "cell_type": "code",
   "execution_count": 10,
   "id": "beneficial-fortune",
   "metadata": {
    "scrolled": true
   },
   "outputs": [
    {
     "data": {
      "image/png": "[encoded data removed]",
      "text/plain": [
       "<Figure size 432x288 with 1 Axes>"
      ]
     },
     "metadata": {
      "needs_background": "light"
     },
     "output_type": "display_data"
    }
   ],
   "source": [
    "housing_low_alpha = LinearRegression()\n",
    "theta, J_hist = housing_low_alpha.execute(0.001, 10000)\n",
    "plt.plot(J_hist)\n",
    "plt.xlabel('number of iterations')\n",
    "plt.ylabel('cost')\n",
    "plt.title('Cost vs number of iter')\n",
    "plt.show()"
   ]
  },
  {
   "cell_type": "markdown",
   "id": "careful-gentleman",
   "metadata": {},
   "source": [
    "From the figure above, it is shown that if the $\\alpha$ is too low, the Batch GD will take smaller step. Moreover, the slope is getting smaller as it approaches the local/global minimum. As the result, the model requires bigger number of iterations. The figure above indicates the model converges around `num_iters = 6000` with $\\alpha$ = 0.001. This is bigger than the initial model which was `num_iters = 400` with $\\alpha$ = 0.1. Thus, user should not use a very small value of alpha.\n",
    "\n",
    "Let's investigate what will happen if the learning rate $\\alpha$ is high. To make intuitive what happened when $\\alpha$ is high, we will choose $\\alpha$ = 1.2926"
   ]
  },
  {
   "cell_type": "code",
   "execution_count": 11,
   "id": "accessory-bidding",
   "metadata": {},
   "outputs": [
    {
     "data": {
      "image/png": "[encoded data removed]",
      "text/plain": [
       "<Figure size 432x288 with 1 Axes>"
      ]
     },
     "metadata": {
      "needs_background": "light"
     },
     "output_type": "display_data"
    }
   ],
   "source": [
    "housing_high_alpha = LinearRegression()\n",
    "theta, J_hist = housing_high_alpha.execute(1.2926, 1000)\n",
    "plt.loglog(J_hist)\n",
    "plt.xlabel('number of iterations')\n",
    "plt.ylabel('cost')\n",
    "plt.title('Cost vs number of iter')\n",
    "plt.show()"
   ]
  },
  {
   "cell_type": "markdown",
   "id": "biological-customs",
   "metadata": {},
   "source": [
    "Figure above illustrates what will happen if the learning rate $\\alpha$ is high. The Batch GD could overshoot the global minimum and oscillate around the global minimum (iter 1 - 10). At worst condition, Batch GD will diverge (iter >10).\n",
    "\n",
    "Let's see what will happen if the learning rate $\\alpha$ is too high (>1.5),"
   ]
  },
  {
   "cell_type": "code",
   "execution_count": 12,
   "id": "meaningful-shape",
   "metadata": {},
   "outputs": [
    {
     "data": {
      "image/png": "[encoded data removed]",
      "text/plain": [
       "<Figure size 432x288 with 1 Axes>"
      ]
     },
     "metadata": {
      "needs_background": "light"
     },
     "output_type": "display_data"
    }
   ],
   "source": [
    "housing_very_high_alpha = LinearRegression()\n",
    "theta, J_hist = housing_very_high_alpha.execute(1.5, 10)\n",
    "plt.loglog(J_hist)\n",
    "plt.xlabel('number of iterations')\n",
    "plt.ylabel('cost')\n",
    "plt.title('Cost vs number of iter')\n",
    "plt.show()"
   ]
  },
  {
   "cell_type": "markdown",
   "id": "alternate-dispute",
   "metadata": {},
   "source": [
    "If $\\alpha$ is too high, the Batch GD diverges dirrectly. At `iter = 1`, the cost is already in the order of $10^{10}$.\n",
    "\n",
    "To summarize, it is helpful to identify the 'correct' alpha by plotting the cost as a function of number of Batch GD iterations. Moreover, the user should be careful in choosing the learning rate $\\alpha$. It should not be too high (overshoot, diverge) nor too small (takes more iteration to converge)."
   ]
  },
  {
   "cell_type": "markdown",
   "id": "progressive-atlanta",
   "metadata": {},
   "source": [
    "<a id=\"section6\"></a>\n",
    "## 6:  Conclusion \n",
    "In this project, we have successfully developed a Machine Learning algorithm using Linear Regression and Batch Gradient Descent. The algorithm is proven able to produce a good hypothesis $h_{\\theta}(x)$ given a very limited number of training examples. Moreover, the project also demonstrated the importance of choosing proper learning rate $\\alpha$ and number of Batch Gradient Descent iterations `num_iters`."
   ]
  }
 ],
 "metadata": {
  "kernelspec": {
   "display_name": "Python 3",
   "language": "python",
   "name": "python3"
  },
  "language_info": {
   "codemirror_mode": {
    "name": "ipython",
    "version": 3
   },
   "file_extension": ".py",
   "mimetype": "text/x-python",
   "name": "python",
   "nbconvert_exporter": "python",
   "pygments_lexer": "ipython3",
   "version": "3.7.10"
  }
 },
 "nbformat": 4,
 "nbformat_minor": 5
}
