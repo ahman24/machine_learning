{
 "cells": [
  {
   "cell_type": "markdown",
   "metadata": {},
   "source": [
    "# Bias and Variance Problem\n",
    "## Introduction\n",
    "\n",
    "In this exercise, we will implement regularized linear regression to predict the water flowing out of the dam water. The project will investigate the bias-variance properties of a Machine Learning project. I'd like to thank Andrew Ng. This project is inspired from the Machine Learning course by [Andrew Ng (Stanford University)](https://www.coursera.org/learn/machine-learning/home/welcome) in Coursera.\n",
    "\n",
    "The project consists of the following sections,\n",
    "\n",
    "| Section | Part                                            |Explanation                                    | \n",
    "|---------|:-                                               |:-                                             |\n",
    "| 1       | [Define Linear Regression Class](#section1)                             | The class serves as a self-built Linear Regression algorithm |\n",
    "| 2       | [Water Flow Prediction # PART 1](#section2)     | Predict water flow with linear features |\n",
    "| 3       | [Water Flow Prediction # PART 2](#section3)     | Predict water flow with higher polynomial features         |\n",
    "| 4       | [Water Flow Prediction # PART 3](#section4)     | Tune the hyperparameter lambda for polynomial regression   |\n",
    "| 5       | [Conclusion](#section5)     | Take aways of the project         |"
   ]
  },
  {
   "cell_type": "markdown",
   "metadata": {},
   "source": [
    "<a id=\"section1\"></a>\n",
    "## 1:  Define a Linear Regression Class\n",
    "The project will utilize the training set, cross-validation/evaluation set, and test set,\n",
    "\n",
    "- A **training** set that your model will learn on: `X`, `y`\n",
    "- A **cross validation** set to fit the regularization hyperparameter: `X_val`, `y_val`\n",
    "- A **test** set to evaluate the hypothesis: `X_test`, `y_test`\n",
    "\n",
    "The pipeline will be,\n",
    "\n",
    "| Pipeline | Part               |Explanation                       | \n",
    "| ---------|:-                  |:-                                |\n",
    "| 1        | Initialize   | Load the dataset. Assign training, cross-validation, and test set |\n",
    "| 2        | Plot the dataset   | Using Matplotlib pyplot          |\n",
    "| 3        | Calculate h_theta            | Calculate the $h_{\\theta}$    |\n",
    "| 4        | Cost Function      | Cost of Regularized Linear Regression |\n",
    "| 5        | Scipy Optimization | Using `scipy.optimize.minimize`  |\n",
    "| 5        | Plot fit | Plot the hypothesis  |"
   ]
  },
  {
   "cell_type": "code",
   "execution_count": 1,
   "metadata": {},
   "outputs": [],
   "source": [
    "import os\n",
    "import numpy as np\n",
    "\n",
    "from matplotlib import pyplot as plt\n",
    "%matplotlib inline\n",
    "\n",
    "from scipy import optimize\n",
    "from scipy.io import loadmat"
   ]
  },
  {
   "cell_type": "code",
   "execution_count": 2,
   "metadata": {},
   "outputs": [],
   "source": [
    "class LinearRegression:\n",
    "    def __init__(self):\n",
    "        '''\n",
    "        The method will load the dataset and initialize important value. \n",
    "        \n",
    "        STEPS\n",
    "        -----\n",
    "        1. Loading dataset : Refer to the load_data method for details\n",
    "        '''\n",
    "        # STEP 1\n",
    "        self.load_data()\n",
    "                \n",
    "    def load_data(self):\n",
    "        '''\n",
    "        The method will load the dataset from a CSV file named 'ex5data1.txt'.\n",
    "        Note: The raw dataset has been shuffled randomly before.\n",
    "        \n",
    "        STEPS\n",
    "        -----\n",
    "        1. Load the CSV file\n",
    "        2. Assign the following variables,\n",
    "            m_training : number of training set examples\n",
    "            X : training set features,\n",
    "                change in water level\n",
    "            y : water flowing out of the dam,\n",
    "        3. Assign the test and evaluation set\n",
    "            X_test, y_test : dataset for the test set\n",
    "            X_eval, y_eval : dataset for the evaluation/cross-validation\n",
    "        '''\n",
    "        \n",
    "        # STEP 1\n",
    "        self.dataset = loadmat(os.path.join('Data', 'ex5data1.mat'))\n",
    "        \n",
    "        # STEP 2\n",
    "        self.X = self.dataset['X']\n",
    "        self.y = self.dataset['y'][:, 0]\n",
    "        self.n = self.X.size\n",
    "        \n",
    "        # STEP 3\n",
    "        self.X_test = self.dataset['Xtest']\n",
    "        self.y_test = self.dataset['ytest'][:, 0]\n",
    "        \n",
    "        self.X_val = self.dataset['Xval']\n",
    "        self.y_val = self.dataset['yval'][:, 0]\n",
    "        self.m_val = self.y_val.size\n",
    "        \n",
    "    def features_mapping(self, X, p):\n",
    "        '''\n",
    "        The method will map the features into n-th higher polynomials.\n",
    "        The method is translated from the Andrew Ng Matlab function. \n",
    "        \n",
    "        PARAMETERS\n",
    "        ----------\n",
    "        X : Numpy array\n",
    "            A matrix of shape (m, n), containing n features values of all examples.\n",
    "        p : int\n",
    "            The polynomial power to map the features. \n",
    "\n",
    "        RETURNS\n",
    "        -------\n",
    "        X_polynomials : Numpy array\n",
    "                        A matrix of shape (m x p) where p is the polynomial \n",
    "                        power and m is the number of examples. That is:\n",
    "\n",
    "                        X_poly[i, :] = [X[i], X[i]**2, X[i]**3 ...  X[i]**p]\n",
    "        \n",
    "        STEPS\n",
    "        -----\n",
    "        1. Initialize values\n",
    "        2. Features mapping through loop\n",
    "        '''\n",
    "        \n",
    "        # STEP 1\n",
    "        m = X.shape[0]\n",
    "        n = X.shape[1]\n",
    "        X_polynomials = np.zeros((m,p))\n",
    "        \n",
    "        # STEP 2\n",
    "        for i in range(p):\n",
    "            X_polynomials[:, i] = X[:, 0] ** (i + 1)\n",
    "        \n",
    "        return X_polynomials\n",
    "    \n",
    "    def features_normalization(self, X):\n",
    "        '''\n",
    "        The method will normalize the features' values so it has a mean\n",
    "        of 0 and a standard deviation of 1. The process will implement \n",
    "        vectorization in Numpy. After normalization, the bias term will be\n",
    "        assigned to the features as X[0].\n",
    "        \n",
    "        RETURN\n",
    "        ------\n",
    "            X_norm : normalized features matrix with a size of m x n, \n",
    "                X[0] : Bias term\n",
    "                X[1] : Feature #1\n",
    "                X[2] : Feature #2\n",
    "                 .\n",
    "                 .\n",
    "                X[n] : Feature #n\n",
    "                \n",
    "        STEPS\n",
    "        ----\n",
    "        1. Initialize matrix size,\n",
    "            X_norm = copy features' matrix size\n",
    "            mean = create mean expected matrix size\n",
    "            sigma = create standard deviation expected matrix size\n",
    "        \n",
    "        2. Calculate the values,\n",
    "            mean = calculate the mean of each features using numpy\n",
    "            sigma = calculate the standard deviation of each features using\n",
    "                    numpy\n",
    "        \n",
    "        3. Calculate normalized features. \n",
    "        4. Add bias term to the normalized features.\n",
    "            X_norm includes normalized features (as X[1] and X[2]) and bias term\n",
    "            as X[0]\n",
    "        '''\n",
    "        \n",
    "        # STEP 1\n",
    "        X_norm = X.copy()\n",
    "        m = X.shape[0]\n",
    "        mean = np.zeros(X_norm.shape[1])\n",
    "        sigma = np.zeros(X_norm.shape[1])\n",
    "        \n",
    "        # STEP 2\n",
    "        mean = np.mean(X_norm, axis=0)\n",
    "        \n",
    "        # STEP 3\n",
    "        X_norm = X - mean\n",
    "        mean = np.mean(X_norm, axis=0)\n",
    "        sigma = np.std(X_norm, axis=0, ddof=1)\n",
    "        X_norm = X_norm / sigma\n",
    "        \n",
    "        return X_norm, mean, sigma\n",
    "        \n",
    "    def plot_data(self, X, y):\n",
    "        '''\n",
    "        The method will plot the select examples randomly and plot it.\n",
    "        \n",
    "        PARAMETERS\n",
    "        ----------\n",
    "        X : Numpy array\n",
    "            A matrix of shape (m, n), containing n features values of all examples.\n",
    "        \n",
    "        STEPS\n",
    "        -----\n",
    "        1. Assign values to plot\n",
    "        2. Plot the values\n",
    "        '''\n",
    "        # STEP 1\n",
    "        X_plot = X.copy()\n",
    "        y_plot = y.copy()\n",
    "        \n",
    "        # STEP 2\n",
    "        plt.plot(X_plot, y_plot, 'ro', ms=10, mec='k', mew=1)\n",
    "        plt.xlabel('Change in water level (x)')\n",
    "        plt.ylabel('Water flowing out of the dam (y)');\n",
    "        plt.show()\n",
    "        \n",
    "    def plot_poly(self, X_training, y_training, min_x, max_x, mu, sigma, theta, p):\n",
    "        '''\n",
    "        The method will plot a learned polynomial regression\n",
    "        \n",
    "        PARAMETERS\n",
    "        ----------\n",
    "        X_poly : Numpy array\n",
    "            The features values with a shape of (m,p)\n",
    "        min_x : float\n",
    "            The minimum value of the features\n",
    "        max_x : float\n",
    "            The maximum value of the features\n",
    "        mu : float\n",
    "            The mean values of the features\n",
    "        sigma : float\n",
    "            The features standard deviations\n",
    "        theta : Numpy array\n",
    "            The parameters for the trained polynomial regression\n",
    "        p : int\n",
    "            The polynomial order\n",
    "            \n",
    "        STEPS\n",
    "        -----\n",
    "        1. Initialize values\n",
    "        2. Features mapping\n",
    "        3. Calculate the h_theta\n",
    "        4. Plot\n",
    "        '''\n",
    "        # STEP 1\n",
    "        x = np.arange(min_x - 15, max_x + 25, 0.05).reshape(-1, 1)\n",
    "        \n",
    "        # STEP 2\n",
    "        X_poly = self.features_mapping(x, p)\n",
    "        X_poly = (X_poly - mu)/ sigma\n",
    "        X_with_bias = np.concatenate([np.ones((x.shape[0], 1)), X_poly], axis=1)\n",
    "        \n",
    "        # STEP 3\n",
    "        y = self.compute_h_theta(X_with_bias, theta)\n",
    "\n",
    "        # STEP 4\n",
    "        plt.plot(X_training, y_training, 'ro', ms=10, mew=1.5, mec='k')\n",
    "        plt.plot(x, y, '--', lw=2)\n",
    "        plt.xlabel('Change in water level (x)')\n",
    "        plt.ylabel('Water flowing out of the dam (y)')\n",
    "        plt.title('Polynomial Regression Fit (lambda =' + str(lambda_) + ')')\n",
    "        plt.ylim([-20, 50])\n",
    "        plt.figure()\n",
    "        \n",
    "    def compute_h_theta(self, X, theta):\n",
    "        '''\n",
    "        The method will predict the water flowing out of the dam.\n",
    "        \n",
    "        PARAMETERS\n",
    "        ----------\n",
    "            X : normalized features matrix with a size of m x n\n",
    "            theta : features' parameters vector with a size of n+1\n",
    "        \n",
    "        RETURN\n",
    "        ------\n",
    "            h_theta : a vector of water flowing out of the dam with a size of n\n",
    "        '''\n",
    "        \n",
    "        h_theta = np.dot(X, theta)\n",
    "        return h_theta\n",
    "\n",
    "    def compute_regularized_cost(self, theta, X, y, lambda_):\n",
    "        '''\n",
    "        The method will calculate the regularized cost. The cost function measures how\n",
    "        'far' the hypothesis is from the optimization objective. The higher the cost, \n",
    "        the further away the hypothesis from the optimization objective.\n",
    "        \n",
    "        PARAMETERS\n",
    "        ----------\n",
    "        theta : Numpy array\n",
    "               A vector of shape (n, 1), containing all thetas.\n",
    "        \n",
    "        RETURN\n",
    "        ------\n",
    "            J : cost of current hypothesis \n",
    "            grad : gradient\n",
    "        \n",
    "        STEPS\n",
    "        -----\n",
    "        1. Initialize values\n",
    "        2. Calculate h_theta\n",
    "        3. Calculate the regularized cost and the gradient\n",
    "        '''\n",
    "        \n",
    "        # STEP 1 \n",
    "        self.m_training = y.size\n",
    "        X = np.concatenate([np.ones((self.m_training, 1)), X], axis=1)\n",
    "        \n",
    "        # STEP 2\n",
    "        h_theta = self.compute_h_theta(X, theta)\n",
    "        \n",
    "        # STEP 3\n",
    "        # Calculate the cost and the grad\n",
    "        J = (1 / (2 * self.m_training)) * np.sum(np.square(h_theta - y)) \n",
    "        + (lambda_ / (2 * self.m_training)) * np.sum(np.square(theta[1:]))\n",
    "\n",
    "        grad = (1 / self.m_training) * np.dot((h_theta - y), X)\n",
    "        grad[1:] = grad[1:] + (lambda_ / self.m_training) * theta[1:]\n",
    "\n",
    "        return J, grad\n",
    "\n",
    "    def scipy_optimize(self, X, y, maxiter, _lambda):\n",
    "        '''\n",
    "        The method will utilize Conjugate Gradient algorithm (CG) in the Scipy Optimization. \n",
    "        Please refer to the Review section.\n",
    "        \n",
    "        PARAMETERS\n",
    "        ----------\n",
    "        X : Numpy array\n",
    "            A matrix of shape (m, n), containing all examples' features values\n",
    "        maxiter : integer\n",
    "            Define maximum iterations allowed for the CG.\n",
    "        lambda_ : float\n",
    "            Define the hyperparameter for regularization.\n",
    "        \n",
    "        RETURNS\n",
    "        -------\n",
    "        theta : Numpy array\n",
    "            A vector of shape (n+1, 1), containing optimized thetas\n",
    "            from CG\n",
    "            \n",
    "        STEPS\n",
    "        -----\n",
    "        1. Initialize important parameters\n",
    "        2. Scipy optimization\n",
    "        '''\n",
    "        \n",
    "        # STEP 1\n",
    "        self.m_training = y.size\n",
    "        self.n = X.shape[0]\n",
    "        self.initial_theta = np.zeros(X.shape[1] + 1)\n",
    "        self.lambda_ = _lambda\n",
    "        \n",
    "        # STEP 2\n",
    "        options = {'maxiter' : maxiter}\n",
    "        \n",
    "        res = optimize.minimize(self.compute_regularized_cost,\n",
    "                                self.initial_theta,\n",
    "                                (X, y, self.lambda_),\n",
    "                                jac=True,\n",
    "                                method='TNC',\n",
    "                                options=options)\n",
    "        \n",
    "        cost = res.fun\n",
    "        theta = res.x\n",
    "        \n",
    "        return theta\n",
    "\n",
    "    def plot_fit(self, X, y, theta):\n",
    "        '''\n",
    "        The method will plot the fitting line.\n",
    "        \n",
    "        PARAMETERS\n",
    "        ----------\n",
    "        X : Numpy array\n",
    "            A matrix of shape (m, n), containing n features values of all examples.\n",
    "        y : Numpy array\n",
    "            A vector of shape (m, 1), containing the label\n",
    "        theta : Numpy array\n",
    "            A matrix of shape (m, n+1).\n",
    "            \n",
    "        STEPS\n",
    "        -----\n",
    "        1. Assign values to plot\n",
    "        2. Plot the values\n",
    "        '''\n",
    "\n",
    "        # STEP 1\n",
    "        X_with_bias = np.concatenate([np.ones((self.m_training, 1)), X], axis=1)\n",
    "        \n",
    "        # STEP 2\n",
    "        plt.plot(X, y, 'ro', ms=10, mec='k', mew=1.5)\n",
    "        plt.xlabel('Change in water level (x)')\n",
    "        plt.ylabel('Water flowing out of the dam (y)')\n",
    "        plt.plot(X, np.dot(X_with_bias, theta), '--', lw=2);\n",
    "        \n",
    "    def learning_curve(self, X_training, y_training, X_val, y_val, maxiter, lambda_):\n",
    "        '''\n",
    "        The method will generate the training and cross-validation errors needed to plot\n",
    "        the learning curve. In this project, the method will compute the errors from m=1\n",
    "        to m = m\n",
    "        \n",
    "        PARAMETERS\n",
    "        ----------\n",
    "        X_training, X_val : Numpy array\n",
    "            A matrix of shape (m, n), containing n features values of all examples.\n",
    "        y_training, y_val : Numpy array\n",
    "            A vector of shape (m, 1), containing the label\n",
    "        lambda_ : float\n",
    "            Define the hyperparameter for regularization..\n",
    "            \n",
    "        RETURNS\n",
    "        -------\n",
    "        error_train : Numpy array\n",
    "                    A vector of shape m. error_train[i] contains the training\n",
    "                    error for i examples.\n",
    "        error_val : Numpy array\n",
    "                    A vector of shape m. error_val[i] contains the validation error for\n",
    "                    i training examples.\n",
    "                    \n",
    "        STEPS\n",
    "        -----\n",
    "        1. Initialize error arrays size\n",
    "        2. Perform the loop to calculate training, training error, and validation error.\n",
    "        '''\n",
    "\n",
    "        # STEP 1\n",
    "        error_train = np.zeros(self.m_training)\n",
    "        error_val = np.zeros(self.m_training)\n",
    "        \n",
    "        # STEP 2\n",
    "        for i in range(1, self.m_training + 1):\n",
    "            theta = self.scipy_optimize(X_training[:i], y_training[:i], maxiter, lambda_)\n",
    "            error_train[i - 1], _ = self.compute_regularized_cost(theta, X_training[:i], y_training[:i], lambda_=0)\n",
    "            error_val[i - 1], _ = self.compute_regularized_cost(theta, X_val, y_val, lambda_=0)\n",
    "        \n",
    "        return error_train, error_val"
   ]
  },
  {
   "cell_type": "markdown",
   "metadata": {},
   "source": [
    "<a id=\"section2\"></a>\n",
    "## 2:  Water Flow Prediction # PART 1\n",
    "\n",
    "In section 2, we will predict the water flowing out of the dam with **Linear Regression**."
   ]
  },
  {
   "cell_type": "code",
   "execution_count": 3,
   "metadata": {},
   "outputs": [],
   "source": [
    "water_prediction = LinearRegression()\n",
    "X_training = water_prediction.X.copy()\n",
    "y_training = water_prediction.y.copy()\n",
    "X_val = water_prediction.X_val.copy()\n",
    "y_val = water_prediction.y_val.copy()\n",
    "X_test = water_prediction.X_test.copy()\n",
    "y_test = water_prediction.y_test.copy()\n",
    "m_training = X_training.size"
   ]
  },
  {
   "cell_type": "markdown",
   "metadata": {},
   "source": [
    "The training set is illustrated below,"
   ]
  },
  {
   "cell_type": "code",
   "execution_count": 4,
   "metadata": {
    "scrolled": true
   },
   "outputs": [
    {
     "data": {
      "image/png": "[encoded data removed]",
      "text/plain": [
       "<Figure size 432x288 with 1 Axes>"
      ]
     },
     "metadata": {
      "needs_background": "light"
     },
     "output_type": "display_data"
    }
   ],
   "source": [
    "water_prediction.plot_data(X_training,y_training)"
   ]
  },
  {
   "cell_type": "markdown",
   "metadata": {},
   "source": [
    "Let's perform the training without regularization,"
   ]
  },
  {
   "cell_type": "code",
   "execution_count": 5,
   "metadata": {
    "scrolled": true
   },
   "outputs": [],
   "source": [
    "max_iter = 200\n",
    "lambda_ = 0\n",
    "theta = water_prediction.scipy_optimize(X_training, y_training, max_iter, lambda_)"
   ]
  },
  {
   "cell_type": "markdown",
   "metadata": {},
   "source": [
    "Let's plot the hypothesis,"
   ]
  },
  {
   "cell_type": "code",
   "execution_count": 6,
   "metadata": {
    "scrolled": true
   },
   "outputs": [
    {
     "data": {
      "image/png": "[encoded data removed]",
      "text/plain": [
       "<Figure size 432x288 with 1 Axes>"
      ]
     },
     "metadata": {
      "needs_background": "light"
     },
     "output_type": "display_data"
    }
   ],
   "source": [
    "water_prediction.plot_fit(X_training, y_training, theta)"
   ]
  },
  {
   "cell_type": "markdown",
   "metadata": {},
   "source": [
    "The best fit line shows that the model is not a good fit to the data because the data has a non-linear pattern. While visualizing the best fit as shown is one possible way to debug the learning algorithm, it is not always easy to visualize the data and model. Let's plot the learning curves which can help to debug the learning algorithm even if it is not easy to visualize the data."
   ]
  },
  {
   "cell_type": "code",
   "execution_count": 7,
   "metadata": {
    "scrolled": true
   },
   "outputs": [],
   "source": [
    "error_training, error_validation = water_prediction.learning_curve(X_training, y_training, \n",
    "                                                                   X_val, y_val, \n",
    "                                                                   max_iter, lambda_)"
   ]
  },
  {
   "cell_type": "markdown",
   "metadata": {},
   "source": [
    "Let's print the training and cross-validation error,"
   ]
  },
  {
   "cell_type": "code",
   "execution_count": 8,
   "metadata": {},
   "outputs": [
    {
     "name": "stdout",
     "output_type": "stream",
     "text": [
      "# Training Examples\tTrain Error\tCross Validation Error\n",
      "  \t1\t\t0.000000\t205.121096\n",
      "  \t2\t\t0.000000\t110.302641\n",
      "  \t3\t\t3.286595\t45.010231\n",
      "  \t4\t\t2.842678\t48.368910\n",
      "  \t5\t\t13.154049\t35.865165\n",
      "  \t6\t\t19.443963\t33.829962\n",
      "  \t7\t\t20.098522\t31.970986\n",
      "  \t8\t\t18.172859\t30.862446\n",
      "  \t9\t\t22.609405\t31.135998\n",
      "  \t10\t\t23.261462\t28.936207\n",
      "  \t11\t\t24.317250\t29.551432\n",
      "  \t12\t\t22.373906\t29.433818\n"
     ]
    }
   ],
   "source": [
    "print('# Training Examples\\tTrain Error\\tCross Validation Error')\n",
    "for i in range(m_training):\n",
    "    print('  \\t%d\\t\\t%f\\t%f' % (i+1, error_training[i], error_validation[i]))"
   ]
  },
  {
   "cell_type": "markdown",
   "metadata": {},
   "source": [
    "which is illustrated below,"
   ]
  },
  {
   "cell_type": "code",
   "execution_count": 9,
   "metadata": {},
   "outputs": [
    {
     "data": {
      "text/plain": [
       "Text(0, 0.5, 'Error')"
      ]
     },
     "execution_count": 9,
     "metadata": {},
     "output_type": "execute_result"
    },
    {
     "data": {
      "image/png": "[encoded data removed]",
      "text/plain": [
       "<Figure size 432x288 with 1 Axes>"
      ]
     },
     "metadata": {
      "needs_background": "light"
     },
     "output_type": "display_data"
    }
   ],
   "source": [
    "plt.plot(np.arange(1, m_training + 1), error_training, np.arange(1, m_training + 1), error_validation, lw=2)\n",
    "plt.title('Learning curve for linear regression')\n",
    "plt.legend(['Train', 'Cross Validation'])\n",
    "plt.xlabel('Number of training examples')\n",
    "plt.ylabel('Error')"
   ]
  },
  {
   "cell_type": "markdown",
   "metadata": {},
   "source": [
    "In the figure above, both the train error and cross validation error are high when the number of training examples `m` is increased. This reflects a high bias problem in the model. The linear regression model is too simple and is unable to fit the dataset well. In the next section, we will implement polynomial regression to fit a better model for the dataset."
   ]
  },
  {
   "cell_type": "markdown",
   "metadata": {},
   "source": [
    "<a id=\"section3\"></a>\n",
    "## 3:  Water Flow Prediction # PART 2\n",
    "\n",
    "In section 3, we will predict the water flowing out of the dam using the **Polynomial Regression**.\n",
    "\n",
    "The existing features will be mapped into higher polynomial order. The project uses `polynomials_order = 8`. Then the features will be normalized."
   ]
  },
  {
   "cell_type": "code",
   "execution_count": 10,
   "metadata": {},
   "outputs": [],
   "source": [
    "polynomials_order = 8"
   ]
  },
  {
   "cell_type": "code",
   "execution_count": 11,
   "metadata": {},
   "outputs": [],
   "source": [
    "X_poly_training = water_prediction.features_mapping(X_training, polynomials_order)\n",
    "X_poly_training_norm, mean, sigma = water_prediction.features_normalization(X_poly_training)"
   ]
  },
  {
   "cell_type": "code",
   "execution_count": 12,
   "metadata": {},
   "outputs": [],
   "source": [
    "X_poly_val = water_prediction.features_mapping(X_val, polynomials_order)\n",
    "X_poly_val_norm = (X_poly_val - mean) / sigma"
   ]
  },
  {
   "cell_type": "code",
   "execution_count": 13,
   "metadata": {},
   "outputs": [],
   "source": [
    "X_poly_test = water_prediction.features_mapping(X_test, polynomials_order)\n",
    "X_poly_test_norm = (X_poly_test - mean) / sigma"
   ]
  },
  {
   "cell_type": "markdown",
   "metadata": {},
   "source": [
    "After features are mapped and normalized, the training could begin. Moreover, the `lambda_` value is randomly chosen."
   ]
  },
  {
   "cell_type": "code",
   "execution_count": 14,
   "metadata": {
    "scrolled": true
   },
   "outputs": [],
   "source": [
    "max_iter = 200\n",
    "lambda_ = 0\n",
    "poly_theta = water_prediction.scipy_optimize(X_poly_training_norm, y_training, max_iter, lambda_)"
   ]
  },
  {
   "cell_type": "markdown",
   "metadata": {},
   "source": [
    "Let's plot the hypothesis,"
   ]
  },
  {
   "cell_type": "code",
   "execution_count": 15,
   "metadata": {
    "scrolled": false
   },
   "outputs": [
    {
     "data": {
      "image/png": "[encoded data removed]",
      "text/plain": [
       "<Figure size 432x288 with 1 Axes>"
      ]
     },
     "metadata": {
      "needs_background": "light"
     },
     "output_type": "display_data"
    },
    {
     "data": {
      "text/plain": [
       "<Figure size 432x288 with 0 Axes>"
      ]
     },
     "metadata": {},
     "output_type": "display_data"
    }
   ],
   "source": [
    "water_prediction.plot_poly(X_training, y_training,\n",
    "                           np.min(X_training), np.max(X_training), \n",
    "                           mean, sigma, \n",
    "                           poly_theta, \n",
    "                           polynomials_order)"
   ]
  },
  {
   "cell_type": "markdown",
   "metadata": {},
   "source": [
    "Let's obtain the `error_train` and `error_val`,"
   ]
  },
  {
   "cell_type": "code",
   "execution_count": 16,
   "metadata": {},
   "outputs": [],
   "source": [
    "error_train, error_val = water_prediction.learning_curve(X_poly_training_norm, y_training, \n",
    "                                                         X_poly_val_norm, y_val, \n",
    "                                                         max_iter, lambda_)"
   ]
  },
  {
   "cell_type": "markdown",
   "metadata": {},
   "source": [
    "Then plot the learning curve,"
   ]
  },
  {
   "cell_type": "code",
   "execution_count": 17,
   "metadata": {},
   "outputs": [
    {
     "data": {
      "text/plain": [
       "Text(0, 0.5, 'Error')"
      ]
     },
     "execution_count": 17,
     "metadata": {},
     "output_type": "execute_result"
    },
    {
     "data": {
      "image/png": "[encoded data removed]",
      "text/plain": [
       "<Figure size 432x288 with 1 Axes>"
      ]
     },
     "metadata": {
      "needs_background": "light"
     },
     "output_type": "display_data"
    }
   ],
   "source": [
    "plt.plot(np.arange(1, m_training + 1), error_train, np.arange(1, m_training + 1), error_val, lw=2)\n",
    "plt.title('Polynomial Regression Learning Curve (lambda = ' + str(lambda_) + ')')\n",
    "plt.legend(['Train', 'Cross Validation'])\n",
    "plt.xlabel('Number of training examples')\n",
    "plt.axis([0, 13, 0, 100])\n",
    "plt.ylabel('Error')"
   ]
  },
  {
   "cell_type": "markdown",
   "metadata": {},
   "source": [
    "From the Polynomial Regression fit and the Learning Curve figures, we could see that the `error_train` are close to zero while the `error_val` are high. There is a clear significant gap between `error_train` and `error_val` which indicates a variance problem. The variance problem occurs when the model overfits the training set.\n",
    "\n",
    "There are some ways to overcome variance problem. One of them is using the regularization. On the next section, we will use regularization and tune the hyperparameter `lambda`."
   ]
  },
  {
   "cell_type": "markdown",
   "metadata": {},
   "source": [
    "<a id=\"section4\"></a>\n",
    "## 4:  Water Flow Prediction # PART 3\n",
    "\n",
    "In section 4, we will tune the hyperparameter `lambda` to minimize the cost.\n",
    "\n",
    "After iterations, it is found out the lowest cost is for `lambda` around 1."
   ]
  },
  {
   "cell_type": "code",
   "execution_count": 18,
   "metadata": {},
   "outputs": [],
   "source": [
    "max_iter = 200\n",
    "lambda_ = 1\n",
    "poly_theta = water_prediction.scipy_optimize(X_poly_training_norm, y_training, max_iter, lambda_)"
   ]
  },
  {
   "cell_type": "code",
   "execution_count": 19,
   "metadata": {},
   "outputs": [
    {
     "data": {
      "image/png": "[encoded data removed]",
      "text/plain": [
       "<Figure size 432x288 with 1 Axes>"
      ]
     },
     "metadata": {
      "needs_background": "light"
     },
     "output_type": "display_data"
    },
    {
     "data": {
      "text/plain": [
       "<Figure size 432x288 with 0 Axes>"
      ]
     },
     "metadata": {},
     "output_type": "display_data"
    }
   ],
   "source": [
    "water_prediction.plot_poly(X_training, y_training,\n",
    "                           np.min(X_training), np.max(X_training), \n",
    "                           mean, sigma, \n",
    "                           poly_theta, \n",
    "                           polynomials_order)"
   ]
  },
  {
   "cell_type": "code",
   "execution_count": 20,
   "metadata": {},
   "outputs": [
    {
     "data": {
      "text/plain": [
       "Text(0, 0.5, 'Error')"
      ]
     },
     "execution_count": 20,
     "metadata": {},
     "output_type": "execute_result"
    },
    {
     "data": {
      "image/png": "[encoded data removed]",
      "text/plain": [
       "<Figure size 432x288 with 1 Axes>"
      ]
     },
     "metadata": {
      "needs_background": "light"
     },
     "output_type": "display_data"
    }
   ],
   "source": [
    "error_train, error_val = water_prediction.learning_curve(X_poly_training_norm, y_training, \n",
    "                                                         X_poly_val_norm, y_val, \n",
    "                                                         max_iter, lambda_)\n",
    "\n",
    "plt.plot(np.arange(1, m_training + 1), error_train, np.arange(1, m_training + 1), error_val, lw=2)\n",
    "plt.title('Polynomial Regression Learning Curve (lambda = ' + str(lambda_) + ')')\n",
    "plt.legend(['Train', 'Cross Validation'])\n",
    "plt.xlabel('Number of training examples')\n",
    "plt.axis([0, 13, 0, 100])\n",
    "plt.ylabel('Error')"
   ]
  },
  {
   "cell_type": "markdown",
   "metadata": {},
   "source": [
    "The model seems to fit the training set and cross-validation set pretty well with `lambda = 1`.\n",
    "\n",
    "Let's see how the model generalize to the test set,"
   ]
  },
  {
   "cell_type": "code",
   "execution_count": 21,
   "metadata": {
    "scrolled": true
   },
   "outputs": [
    {
     "data": {
      "image/png": "[encoded data removed]",
      "text/plain": [
       "<Figure size 432x288 with 1 Axes>"
      ]
     },
     "metadata": {
      "needs_background": "light"
     },
     "output_type": "display_data"
    },
    {
     "data": {
      "text/plain": [
       "<Figure size 432x288 with 0 Axes>"
      ]
     },
     "metadata": {},
     "output_type": "display_data"
    }
   ],
   "source": [
    "water_prediction.plot_poly(X_test, y_test,\n",
    "                           np.min(X_training), np.max(X_training), \n",
    "                           mean, sigma, \n",
    "                           poly_theta, \n",
    "                           polynomials_order)"
   ]
  },
  {
   "cell_type": "markdown",
   "metadata": {},
   "source": [
    "From the figure above, it seems that the `lambda = 1` able to generalize well to new data (test set). This section suggests that regularization could be used to overcome variance problem."
   ]
  },
  {
   "cell_type": "markdown",
   "metadata": {},
   "source": [
    "<a id=\"section5\"></a>\n",
    "## 5: Conclusion\n",
    "\n",
    "In this project, we have successfully developed a Machine Learning algorithm using both Linear Regression and Polynomial Regression.\n",
    "\n",
    "When working on a Machine Learning project, there might be challenges to identify whether the model suffers a bias problem (underfitting) or a variance problem (overfitting). In such a case, the user should consider plotting the learning curve. THe learning curve makes it easier for the user to identify whether a model suffer a bias problem or a variance problem."
   ]
  }
 ],
 "metadata": {
  "kernelspec": {
   "display_name": "Python 3",
   "language": "python",
   "name": "python3"
  },
  "language_info": {
   "codemirror_mode": {
    "name": "ipython",
    "version": 3
   },
   "file_extension": ".py",
   "mimetype": "text/x-python",
   "name": "python",
   "nbconvert_exporter": "python",
   "pygments_lexer": "ipython3",
   "version": "3.7.10"
  }
 },
 "nbformat": 4,
 "nbformat_minor": 2
}
