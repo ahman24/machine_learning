{
 "cells": [
  {
   "cell_type": "markdown",
   "id": "exciting-receipt",
   "metadata": {},
   "source": [
    "# University Admission Prediction : Logistic Regression\n",
    "\n",
    "## Introduction\n",
    "\n",
    "The project will implement Logistic Regression + scipy to predict student's university admission status. The objective is to understand and create a Logistic Regression algorithm and utilize the advanced optimization algorithm in scipy. The dataset is obtained from the Exercise 2 of the CS229 - 2018 Harvard class. \n",
    "\n",
    "The project consists of the following sections,\n",
    "\n",
    "| Section | Part                                            |Explanation                                    | \n",
    "|---------|:-                                               |:-                                             |\n",
    "| 1       | [Review](#section1)                             | The equations which will be used to create the Logistic Regression Class |\n",
    "| 2       | [Define Logistic Regression Class](#section2)                     | The class serves as a self-built LG algorithm|\n",
    "| 3       | [University Admission Prediction with LG Class](#section3)     | Evaluate the LG model          |\n",
    "| 4       | [Conclusion](#section4)     | Take aways of the project         |"
   ]
  },
  {
   "cell_type": "markdown",
   "id": "sapphire-collective",
   "metadata": {},
   "source": [
    "<a id=\"section1\"></a>\n",
    "## 1:  Review \n",
    "\n",
    "Logistic regression uses a Sigmoid function to calculate the $h_{\\theta}$,\n",
    "$$ h_\\theta(x) = g(\\theta^T x)$$\n",
    "\n",
    "\n",
    "which the $g$ is a sigmoid function. The sigmoid function is defined as, \n",
    "\n",
    "$$g(z) = \\frac{1}{1+e^{-z}}$$\n",
    "\n",
    "Moreover, the optimization objective `cost function` is,\n",
    "\n",
    "$$ J(\\theta) = \\frac{1}{m} \\sum_{i=1}^{m} \\left[ -y^{(i)} \\log\\left(h_\\theta\\left( x^{(i)} \\right) \\right) - \\left( 1 - y^{(i)}\\right) \\log \\left( 1 - h_\\theta\\left( x^{(i)} \\right) \\right) \\right]$$\n",
    "\n",
    "which the gradient of the cost function is,\n",
    "\n",
    "$$ \\frac{\\partial J(\\theta)}{\\partial \\theta_j} = \\frac{1}{m} \\sum_{i=1}^m \\left( h_\\theta \\left( x^{(i)} \\right) - y^{(i)} \\right) x_j^{(i)} $$\n",
    "\n",
    "The project will utilize scipy.optimize.minimize algorithm to optimize the optimization objective rather than using Batch Gradient Descent. As usual, vectorization is also implemented to optimize the algorithm."
   ]
  },
  {
   "cell_type": "markdown",
   "id": "located-composite",
   "metadata": {},
   "source": [
    "<a id=\"section2\"></a>\n",
    "## 2:  Define a Logistic Regression class \n",
    "The pipeline will be,\n",
    "\n",
    "| Pipeline | Part               |Explanation                       | \n",
    "| ---------|:-                  |:-                                |\n",
    "| 1        | Load the dataset   | Using Numpy                      |\n",
    "| 2        | Plot the dataset   | Using Matplotlib pyplot          |\n",
    "| 3        | Sigmoid            | To calculate the $h_{\\theta}$    |\n",
    "| 4        | Cost Function      | Refer to the [review](section1)  |\n",
    "| 5        | Scipy Optimization | Advanced optimization algorithm (refer to [1](https://docs.scipy.org/doc/scipy/reference/generated/scipy.optimize.minimize.html#rdd2e1855725e-5) and [2](https://docs.scipy.org/doc/scipy/reference/generated/scipy.optimize.minimize.html#rdd2e1855725e-8)) |\n",
    "| 6        | Prediction         | Given $\\theta$, return status and its probability  |"
   ]
  },
  {
   "cell_type": "code",
   "execution_count": 1,
   "id": "monetary-retrieval",
   "metadata": {},
   "outputs": [],
   "source": [
    "import os\n",
    "import numpy as np\n",
    "import matplotlib.pyplot as plt\n",
    "\n",
    "from scipy import optimize\n",
    "%matplotlib inline"
   ]
  },
  {
   "cell_type": "code",
   "execution_count": 1,
   "id": "civil-toddler",
   "metadata": {},
   "outputs": [],
   "source": [
    "class LogisticRegression:\n",
    "    def __init__(self):\n",
    "        '''\n",
    "        The method will load the dataset and initialize important value. \n",
    "        \n",
    "        STEPS\n",
    "        -----\n",
    "        1. Loading dataset : Refer to the load_data method for details\n",
    "        '''\n",
    "        \n",
    "        self.load_data()\n",
    "        \n",
    "    def load_data(self):\n",
    "        '''\n",
    "        The method will load the dataset from a CSV file named 'ex2data1.txt'. \n",
    "        Note: The raw dataset has been shuffled randomly before.\n",
    "        \n",
    "        STEPS\n",
    "        -----\n",
    "        1. Load the CSV file\n",
    "        2. Assign the following variables,\n",
    "            m : number of dataset examples\n",
    "            n : number of dataset features that includes the bias term\n",
    "        \n",
    "        3. Assign features and labels,\n",
    "            X : training set features,\n",
    "                X[0] : 1st exam score\n",
    "                X[1] : 2nd exam score\n",
    "            y : university admission results. accepted (y=1), rejected (y=0).            \n",
    "        '''\n",
    "        \n",
    "        # STEP 1\n",
    "        self.dataset = np.loadtxt(os.path.join('Data', 'ex2data1.txt'), delimiter=',')\n",
    "        \n",
    "        # STEP 2\n",
    "        self.m = self.dataset.shape[0]\n",
    "        self.n = self.dataset.shape[1]\n",
    "        \n",
    "        # STEP 3\n",
    "        self.X = self.dataset[:, :2]\n",
    "        self.y = self.dataset[:, 2]\n",
    "                \n",
    "    def plot_data(self, X, y):\n",
    "        '''\n",
    "        The method will plot the dataset.\n",
    "        \n",
    "        PARAMETERS\n",
    "        ----------\n",
    "        X : Numpy array\n",
    "            A matrix of shape (m, 2), containing 2 features for all examples.\n",
    "\n",
    "        y : Numpy array\n",
    "            A vector of shape (m, 1), containing all examples' labels\n",
    "        \n",
    "        STEPS\n",
    "        -----\n",
    "        1. Find indices that has label 1 (admitted) and 0 (rejected)\n",
    "        2. Plot the data\n",
    "        '''\n",
    "        \n",
    "        # STEP 1\n",
    "        idx_admitted = y==1\n",
    "        idx_rejected = y==0\n",
    "        \n",
    "        # STEP 2\n",
    "        plt.plot(X[idx_admitted,0], X[idx_admitted,1], 'k*', mfc='b', ms=8, mec='b', mew=1)\n",
    "        plt.plot(X[idx_rejected,0], X[idx_rejected,1], 'ko', mfc='r', ms=8, mec='r', mew=1)\n",
    "        plt.xlabel('Exam 1 score')\n",
    "        plt.ylabel('Exam 2 score')\n",
    "        plt.legend(['Admitted', 'Not admitted'])\n",
    "            \n",
    "    def sigmoid(self, z):\n",
    "        '''\n",
    "        The method will calculate the sigmoid function.\n",
    "        \n",
    "        PARAMETERS\n",
    "        ----------\n",
    "        z : Numpy array\n",
    "            A vector of shape (m, 1) from a matrix multiplication of theta and X\n",
    "            \n",
    "        RETURNS\n",
    "        -------\n",
    "        g : Numpy array\n",
    "            A vector of shape (m,1) of h_theta\n",
    "        '''\n",
    "        \n",
    "        g = 1 / (1 + np.exp(-z))\n",
    "        \n",
    "        return g\n",
    "    \n",
    "    def compute_cost(self, theta, X, y):\n",
    "        '''\n",
    "        The method will compute the cost and the gradient. The cost function \n",
    "        will be referred later for the scipy optimization algorithm.\n",
    "        \n",
    "        PARAMETERS\n",
    "        ----------\n",
    "        theta : Numpy array\n",
    "               A vector of shape (n, 1), containing all thetas.\n",
    "        X : Numpy array\n",
    "            A matrix of shape (m, n), containing all examples' labels\n",
    "            \n",
    "        y : Numpy array\n",
    "            A vector of shape (m, 1), containing all examples' labels\n",
    "            \n",
    "        RETURNS\n",
    "        -------\n",
    "        J : float\n",
    "            Given the theta, return the cost of the model\n",
    "        grad : Numpy array\n",
    "            A vector of shape (n+1,1), containing the gradient of the model\n",
    "            \n",
    "        STEPS\n",
    "        -----\n",
    "        1. Calculate the sigmoid function\n",
    "        2. Calculate the cost and gradient\n",
    "        '''\n",
    "        \n",
    "        # STEP 1\n",
    "        z = np.dot(X,theta)\n",
    "        h_theta = self.sigmoid(z)\n",
    "        \n",
    "        # STEP 2\n",
    "        J = (1/self.m) * np.sum(np.dot(-y, np.log(h_theta)) - np.dot((1-y), np.log(1-h_theta)))\n",
    "        grad = (1/self.m) * np.dot((h_theta - y), X)\n",
    "        \n",
    "        return J, grad\n",
    "\n",
    "    def scipy_optimize(self, maxiter):\n",
    "        '''\n",
    "        The method will utilize Truncated Newton algorithm (TNC) in the Scipy Optimization. \n",
    "        Please refer to the Review section.\n",
    "        \n",
    "        PARAMETERS\n",
    "        ----------\n",
    "        maxiter : integer\n",
    "               Define maximum iterations allowed for the TNC.\n",
    "               \n",
    "        RETURNS\n",
    "        -------\n",
    "        theta : Numpy array\n",
    "            A vector of shape (n, 1), containing optimized thetas\n",
    "            from TNC\n",
    "            \n",
    "        STEPS\n",
    "        -----\n",
    "        1. Add bias unit to the features\n",
    "        2. Define the initial theta as a vector of zeros\n",
    "        3. Scipy optimization\n",
    "        '''\n",
    "        \n",
    "        # STEP 1\n",
    "        bias_unit = np.ones((self.X.shape[0],1))\n",
    "        X_with_bias = np.hstack((bias_unit,self.X))\n",
    "        \n",
    "        # STEP 2\n",
    "        self.theta = np.zeros(X_with_bias.shape[1])\n",
    "        initial_theta = self.theta.copy()\n",
    "        \n",
    "        \n",
    "        # STEP 3\n",
    "        options = {'maxiter' : maxiter}\n",
    "\n",
    "        res = optimize.minimize(self.compute_cost,\n",
    "                                initial_theta,\n",
    "                                (X_with_bias, self.y),\n",
    "                                jac=True,\n",
    "                                method='TNC',\n",
    "                                options=options)\n",
    "        \n",
    "        cost = res.fun\n",
    "        theta = res.x\n",
    "        \n",
    "        return theta\n",
    "    \n",
    "    def plot_decision_boundary(self, theta, X, y):\n",
    "        '''\n",
    "        The method will plot plot the decision boundary. This method is \n",
    "        a code snipet from the Andrew Ng training exercise.\n",
    "        \n",
    "        PARAMETERS\n",
    "        ----------\n",
    "        theta : Numpy array\n",
    "               A vector of shape (n, 1), containing all thetas.\n",
    "        X : Numpy array\n",
    "            A matrix of shape (m, n), containing all examples' labels\n",
    "        y : Numpy array\n",
    "            A vector of shape (m, 1), containing all examples' labels\n",
    "        '''\n",
    "        \n",
    "        # make sure theta is a numpy array\n",
    "        theta = np.array(theta)\n",
    "\n",
    "        # Add bias term\n",
    "        bias_unit = np.ones((X.shape[0],1))\n",
    "        X = np.hstack((bias_unit,X))\n",
    "        \n",
    "        # Plot Data (remember first column in X is the intercept)\n",
    "        self.plot_data(X[:, 1:3], y)\n",
    "\n",
    "        if X.shape[1] <= 3:\n",
    "            # Only need 2 points to define a line, so choose two endpoints\n",
    "            plot_x = np.array([np.min(X[:, 1]) - 2, np.max(X[:, 1]) + 2])\n",
    "\n",
    "            # Calculate the decision boundary line\n",
    "            plot_y = (-1. / theta[2]) * (theta[1] * plot_x + theta[0])\n",
    "\n",
    "            # Plot, and adjust axes for better viewing\n",
    "            plt.plot(plot_x, plot_y, 'g')\n",
    "\n",
    "            # Legend, specific for the exercise\n",
    "            plt.legend(['Admitted', 'Not admitted', 'Decision Boundary'], \n",
    "                       loc = 'upper right', bbox_to_anchor=(0.45, 0., 1, 1))\n",
    "            plt.xlim([30, 100])\n",
    "            plt.ylim([30, 100])\n",
    "        else:\n",
    "            # Here is the grid range\n",
    "            u = np.linspace(-1, 1.5, 50)\n",
    "            v = np.linspace(-1, 1.5, 50)\n",
    "\n",
    "            z = np.zeros((u.size, v.size))\n",
    "            # Evaluate z = theta*x over the grid\n",
    "            for i, ui in enumerate(u):\n",
    "                for j, vj in enumerate(v):\n",
    "                    z[i, j] = np.dot(mapFeature(ui, vj), theta)\n",
    "\n",
    "            z = z.T  # important to transpose z before calling contour\n",
    "            # print(z)\n",
    "\n",
    "            # Plot z = 0\n",
    "            plt.contour(u, v, z, levels=[0], linewidths=2, colors='g')\n",
    "            plt.contourf(u, v, z, levels=[np.min(z), 0, np.max(z)], cmap='Greens', alpha=0.4)\n",
    "\n",
    "    \n",
    "    def predict(self, X, theta):\n",
    "        '''\n",
    "        The method will predict the admission status given the X and thetas.\n",
    "        Moreover, calculate the predictions' probability.\n",
    "        \n",
    "        PARAMETERS\n",
    "        ----------\n",
    "        X : Numpy array\n",
    "            A matrix of shape (m, n-1), containing all examples features'\n",
    "            values\n",
    "        theta : Numpy array\n",
    "            A vector of shape (n, 1), containing all thetas.\n",
    "            \n",
    "        RETURNS\n",
    "        -------\n",
    "        probability : Numpy array\n",
    "                    A vector of shape (m, 1), containing the admission_status\n",
    "                    probability\n",
    "        admission_status : Numpy array\n",
    "                        A vector of shape (m,1), containing the prediction of\n",
    "                        the admission_status (1 = accepted, 0 = rejected)\n",
    "                        \n",
    "        STEPS\n",
    "        -----\n",
    "        1. Add bias unit to the features\n",
    "        2. Calculate the sigmoid function\n",
    "        3. Find indices of accepted (y>= 0.5) and rejected (y<0.5)\n",
    "        4. Assign the prediction based on the probability threshold (0.5)\n",
    "        '''\n",
    "        \n",
    "        # STEP 1\n",
    "        bias_unit = np.ones((X.shape[0],1))\n",
    "        X_with_bias = np.hstack((bias_unit,X))\n",
    "\n",
    "        # STEP 2\n",
    "        z = np.dot(X_with_bias,theta)\n",
    "        probability = self.sigmoid(z)\n",
    "        \n",
    "        # STEP 3\n",
    "        idx_positive = np.argwhere(probability >= 0.5)\n",
    "        idx_negative = np.argwhere(probability < 0.5)\n",
    "        \n",
    "        # STEP 4\n",
    "        admission_status = np.zeros(X.shape[0])\n",
    "        admission_status[idx_positive] = 1\n",
    "        admission_status[idx_negative] = 0\n",
    "        \n",
    "        return probability, admission_status"
   ]
  },
  {
   "cell_type": "markdown",
   "id": "unsigned-indication",
   "metadata": {},
   "source": [
    "<a id=\"section3\"></a>\n",
    "## 3:  Predict University Admission Status with Logistic Regression class \n",
    "In section 3, we will predict the university admission's status using the Logistic Regression class on Section 2.\n",
    "\n",
    "The dataset has 2 features:\n",
    "1. Exam score 1\n",
    "2. Exam score 2"
   ]
  },
  {
   "cell_type": "code",
   "execution_count": 3,
   "id": "aggregate-funds",
   "metadata": {},
   "outputs": [],
   "source": [
    "university_admission = LogisticRegression()\n",
    "X = university_admission.X.copy()\n",
    "y = university_admission.y.copy()"
   ]
  },
  {
   "cell_type": "code",
   "execution_count": 4,
   "id": "incomplete-message",
   "metadata": {},
   "outputs": [
    {
     "name": "stdout",
     "output_type": "stream",
     "text": [
      "  Score1   Score2   status\n",
      "--------------------------\n",
      "    35       78        0\n",
      "    30       44        0\n",
      "    36       73        0\n",
      "    60       86        1\n",
      "    79       75        1\n",
      "    45       56        0\n",
      "    61       97        1\n",
      "    75       47        1\n",
      "    76       87        1\n",
      "    84       44        1\n"
     ]
    }
   ],
   "source": [
    "print('{:>8s}{:>9s}{:>9s}'.format('Score1', 'Score2', 'status'))\n",
    "print('-'*26)\n",
    "for i in range(10):\n",
    "    print('{:6.0f}{:9.0f}{:9.0f}'.format(X[i, 0], X[i, 1], y[i]))"
   ]
  },
  {
   "cell_type": "markdown",
   "id": "educational-karma",
   "metadata": {},
   "source": [
    "The training set is illustrated below,"
   ]
  },
  {
   "cell_type": "code",
   "execution_count": 5,
   "id": "minute-machine",
   "metadata": {
    "scrolled": true
   },
   "outputs": [
    {
     "data": {
      "image/png": "[encoded data removed]",
      "text/plain": [
       "<Figure size 432x288 with 1 Axes>"
      ]
     },
     "metadata": {
      "needs_background": "light"
     },
     "output_type": "display_data"
    }
   ],
   "source": [
    "university_admission.plot_data(X,y)\n",
    "plt.show()"
   ]
  },
  {
   "cell_type": "markdown",
   "id": "altered-sword",
   "metadata": {},
   "source": [
    "It seems features mapping is not necessary since the admission status easily distinguished by a linear line.\n",
    "\n",
    "The `scipy_optimize` is then called to begin the optimization,"
   ]
  },
  {
   "cell_type": "code",
   "execution_count": 6,
   "id": "manufactured-screw",
   "metadata": {
    "scrolled": true
   },
   "outputs": [],
   "source": [
    "theta = university_admission.scipy_optimize(400)"
   ]
  },
  {
   "cell_type": "markdown",
   "id": "complicated-hungary",
   "metadata": {},
   "source": [
    "The `scipy_optimize` return the `theta` with the lowest cost. Let's evaluate the model accuracy,"
   ]
  },
  {
   "cell_type": "code",
   "execution_count": 7,
   "id": "stainless-essay",
   "metadata": {},
   "outputs": [
    {
     "name": "stdout",
     "output_type": "stream",
     "text": [
      "Model Accuracy: 89.00 %\n"
     ]
    }
   ],
   "source": [
    "_, admission_status = university_admission.predict(X,theta)\n",
    "\n",
    "print('Model Accuracy: {:.2f} %'.format(np.mean(admission_status == y) * 100))"
   ]
  },
  {
   "cell_type": "markdown",
   "id": "damaged-treasure",
   "metadata": {},
   "source": [
    "The model has the accuracy of **89%** to classify the `admission_status`. Moreover, let's plot the `decision boundary` to have intuition how good the model is,"
   ]
  },
  {
   "cell_type": "code",
   "execution_count": 8,
   "id": "assumed-doctor",
   "metadata": {
    "scrolled": false
   },
   "outputs": [
    {
     "data": {
      "image/png": "[encoded data removed]",
      "text/plain": [
       "<Figure size 432x288 with 1 Axes>"
      ]
     },
     "metadata": {
      "needs_background": "light"
     },
     "output_type": "display_data"
    }
   ],
   "source": [
    "university_admission.plot_decision_boundary(theta, X, y)"
   ]
  },
  {
   "cell_type": "markdown",
   "id": "adjacent-oxygen",
   "metadata": {},
   "source": [
    "The decision boundary seems able to distinguish the admission status."
   ]
  },
  {
   "cell_type": "markdown",
   "id": "removed-nutrition",
   "metadata": {},
   "source": [
    "<a id=\"section4\"></a>\n",
    "## 3:  Conclusion\n",
    "In this project, we have successfully developed a Machine Learning algorithm using Logistic Regression and Scipy Optimization. The algorithm is proven able to produce a good hypothesis $h_{\\theta}(x)$ given a very limited number of training examples. For a complex training set, features mapping might be necessary."
   ]
  }
 ],
 "metadata": {
  "kernelspec": {
   "display_name": "Python 3",
   "language": "python",
   "name": "python3"
  },
  "language_info": {
   "codemirror_mode": {
    "name": "ipython",
    "version": 3
   },
   "file_extension": ".py",
   "mimetype": "text/x-python",
   "name": "python",
   "nbconvert_exporter": "python",
   "pygments_lexer": "ipython3",
   "version": "3.7.10"
  }
 },
 "nbformat": 4,
 "nbformat_minor": 5
}
